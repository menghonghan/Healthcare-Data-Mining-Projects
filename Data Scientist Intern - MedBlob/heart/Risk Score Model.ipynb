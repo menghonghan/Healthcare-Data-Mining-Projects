{
 "cells": [
  {
   "cell_type": "code",
   "execution_count": 3,
   "metadata": {},
   "outputs": [],
   "source": [
    "import numpy as np\n",
    "import pandas as pd\n",
    "import warnings\n",
    "warnings.filterwarnings('ignore')\n",
    "from functools import reduce\n",
    "from sklearn.metrics import confusion_matrix, accuracy_score, f1_score, classification_report\n",
    "from sklearn.tree import DecisionTreeClassifier\n",
    "from sklearn.model_selection import train_test_split\n",
    "from sklearn.linear_model import LogisticRegression"
   ]
  },
  {
   "cell_type": "code",
   "execution_count": null,
   "metadata": {},
   "outputs": [],
   "source": [
    "print(pd.__version__)"
   ]
  },
  {
   "cell_type": "code",
   "execution_count": 95,
   "metadata": {},
   "outputs": [],
   "source": [
    "df = pd.read_csv('all_heart.csv')"
   ]
  },
  {
   "cell_type": "code",
   "execution_count": 96,
   "metadata": {},
   "outputs": [
    {
     "data": {
      "text/html": [
       "<div>\n",
       "<style scoped>\n",
       "    .dataframe tbody tr th:only-of-type {\n",
       "        vertical-align: middle;\n",
       "    }\n",
       "\n",
       "    .dataframe tbody tr th {\n",
       "        vertical-align: top;\n",
       "    }\n",
       "\n",
       "    .dataframe thead th {\n",
       "        text-align: right;\n",
       "    }\n",
       "</style>\n",
       "<table border=\"1\" class=\"dataframe\">\n",
       "  <thead>\n",
       "    <tr style=\"text-align: right;\">\n",
       "      <th></th>\n",
       "      <th>Unnamed: 0</th>\n",
       "      <th>SEQN</th>\n",
       "      <th>Gender</th>\n",
       "      <th>Age</th>\n",
       "      <th>RaceMexican American</th>\n",
       "      <th>RaceOther Hispanic</th>\n",
       "      <th>RaceNon-Hispanic White</th>\n",
       "      <th>RaceNon-Hispanic Black</th>\n",
       "      <th>Race6\\tNon-Hispanic Asian</th>\n",
       "      <th>RaceOther Race - Including Multi-Racial</th>\n",
       "      <th>...</th>\n",
       "      <th>LBXSUA</th>\n",
       "      <th>MCQ160D</th>\n",
       "      <th>MCQ300A</th>\n",
       "      <th>MCQ300B</th>\n",
       "      <th>MCQ300C</th>\n",
       "      <th>MCQ365A</th>\n",
       "      <th>MCQ365B</th>\n",
       "      <th>MCQ365C</th>\n",
       "      <th>MCQ365D</th>\n",
       "      <th>y</th>\n",
       "    </tr>\n",
       "  </thead>\n",
       "  <tbody>\n",
       "    <tr>\n",
       "      <th>0</th>\n",
       "      <td>1</td>\n",
       "      <td>83732</td>\n",
       "      <td>0</td>\n",
       "      <td>62</td>\n",
       "      <td>0</td>\n",
       "      <td>0</td>\n",
       "      <td>1</td>\n",
       "      <td>0</td>\n",
       "      <td>0</td>\n",
       "      <td>0</td>\n",
       "      <td>...</td>\n",
       "      <td>4.2</td>\n",
       "      <td>0</td>\n",
       "      <td>0</td>\n",
       "      <td>0</td>\n",
       "      <td>1</td>\n",
       "      <td>0</td>\n",
       "      <td>1</td>\n",
       "      <td>0</td>\n",
       "      <td>0</td>\n",
       "      <td>0</td>\n",
       "    </tr>\n",
       "    <tr>\n",
       "      <th>1</th>\n",
       "      <td>2</td>\n",
       "      <td>83733</td>\n",
       "      <td>0</td>\n",
       "      <td>53</td>\n",
       "      <td>0</td>\n",
       "      <td>0</td>\n",
       "      <td>1</td>\n",
       "      <td>0</td>\n",
       "      <td>0</td>\n",
       "      <td>0</td>\n",
       "      <td>...</td>\n",
       "      <td>7.0</td>\n",
       "      <td>0</td>\n",
       "      <td>0</td>\n",
       "      <td>0</td>\n",
       "      <td>1</td>\n",
       "      <td>0</td>\n",
       "      <td>0</td>\n",
       "      <td>0</td>\n",
       "      <td>0</td>\n",
       "      <td>0</td>\n",
       "    </tr>\n",
       "    <tr>\n",
       "      <th>2</th>\n",
       "      <td>3</td>\n",
       "      <td>83734</td>\n",
       "      <td>0</td>\n",
       "      <td>78</td>\n",
       "      <td>0</td>\n",
       "      <td>0</td>\n",
       "      <td>1</td>\n",
       "      <td>0</td>\n",
       "      <td>0</td>\n",
       "      <td>0</td>\n",
       "      <td>...</td>\n",
       "      <td>7.3</td>\n",
       "      <td>0</td>\n",
       "      <td>0</td>\n",
       "      <td>1</td>\n",
       "      <td>0</td>\n",
       "      <td>0</td>\n",
       "      <td>1</td>\n",
       "      <td>1</td>\n",
       "      <td>1</td>\n",
       "      <td>1</td>\n",
       "    </tr>\n",
       "    <tr>\n",
       "      <th>3</th>\n",
       "      <td>4</td>\n",
       "      <td>83734</td>\n",
       "      <td>0</td>\n",
       "      <td>78</td>\n",
       "      <td>0</td>\n",
       "      <td>0</td>\n",
       "      <td>1</td>\n",
       "      <td>0</td>\n",
       "      <td>0</td>\n",
       "      <td>0</td>\n",
       "      <td>...</td>\n",
       "      <td>7.3</td>\n",
       "      <td>0</td>\n",
       "      <td>0</td>\n",
       "      <td>1</td>\n",
       "      <td>0</td>\n",
       "      <td>0</td>\n",
       "      <td>1</td>\n",
       "      <td>1</td>\n",
       "      <td>1</td>\n",
       "      <td>0</td>\n",
       "    </tr>\n",
       "    <tr>\n",
       "      <th>4</th>\n",
       "      <td>5</td>\n",
       "      <td>83737</td>\n",
       "      <td>1</td>\n",
       "      <td>72</td>\n",
       "      <td>1</td>\n",
       "      <td>0</td>\n",
       "      <td>0</td>\n",
       "      <td>0</td>\n",
       "      <td>0</td>\n",
       "      <td>0</td>\n",
       "      <td>...</td>\n",
       "      <td>4.9</td>\n",
       "      <td>0</td>\n",
       "      <td>0</td>\n",
       "      <td>0</td>\n",
       "      <td>1</td>\n",
       "      <td>0</td>\n",
       "      <td>0</td>\n",
       "      <td>0</td>\n",
       "      <td>1</td>\n",
       "      <td>0</td>\n",
       "    </tr>\n",
       "  </tbody>\n",
       "</table>\n",
       "<p>5 rows × 30 columns</p>\n",
       "</div>"
      ],
      "text/plain": [
       "   Unnamed: 0   SEQN  Gender  Age  RaceMexican American  RaceOther Hispanic  \\\n",
       "0           1  83732       0   62                     0                   0   \n",
       "1           2  83733       0   53                     0                   0   \n",
       "2           3  83734       0   78                     0                   0   \n",
       "3           4  83734       0   78                     0                   0   \n",
       "4           5  83737       1   72                     1                   0   \n",
       "\n",
       "   RaceNon-Hispanic White  RaceNon-Hispanic Black  Race6\\tNon-Hispanic Asian  \\\n",
       "0                       1                       0                          0   \n",
       "1                       1                       0                          0   \n",
       "2                       1                       0                          0   \n",
       "3                       1                       0                          0   \n",
       "4                       0                       0                          0   \n",
       "\n",
       "   RaceOther Race - Including Multi-Racial  ...  LBXSUA  MCQ160D  MCQ300A  \\\n",
       "0                                        0  ...     4.2        0        0   \n",
       "1                                        0  ...     7.0        0        0   \n",
       "2                                        0  ...     7.3        0        0   \n",
       "3                                        0  ...     7.3        0        0   \n",
       "4                                        0  ...     4.9        0        0   \n",
       "\n",
       "   MCQ300B  MCQ300C  MCQ365A  MCQ365B  MCQ365C  MCQ365D  y  \n",
       "0        0        1        0        1        0        0  0  \n",
       "1        0        1        0        0        0        0  0  \n",
       "2        1        0        0        1        1        1  1  \n",
       "3        1        0        0        1        1        1  0  \n",
       "4        0        1        0        0        0        1  0  \n",
       "\n",
       "[5 rows x 30 columns]"
      ]
     },
     "execution_count": 96,
     "metadata": {},
     "output_type": "execute_result"
    }
   ],
   "source": [
    "df.head(5)"
   ]
  },
  {
   "cell_type": "code",
   "execution_count": 97,
   "metadata": {},
   "outputs": [],
   "source": [
    "df2 = df[df.columns[2:].to_list()]"
   ]
  },
  {
   "cell_type": "code",
   "execution_count": 98,
   "metadata": {},
   "outputs": [
    {
     "data": {
      "text/html": [
       "<div>\n",
       "<style scoped>\n",
       "    .dataframe tbody tr th:only-of-type {\n",
       "        vertical-align: middle;\n",
       "    }\n",
       "\n",
       "    .dataframe tbody tr th {\n",
       "        vertical-align: top;\n",
       "    }\n",
       "\n",
       "    .dataframe thead th {\n",
       "        text-align: right;\n",
       "    }\n",
       "</style>\n",
       "<table border=\"1\" class=\"dataframe\">\n",
       "  <thead>\n",
       "    <tr style=\"text-align: right;\">\n",
       "      <th></th>\n",
       "      <th>Gender</th>\n",
       "      <th>Age</th>\n",
       "      <th>RaceMexican American</th>\n",
       "      <th>RaceOther Hispanic</th>\n",
       "      <th>RaceNon-Hispanic White</th>\n",
       "      <th>RaceNon-Hispanic Black</th>\n",
       "      <th>Race6\\tNon-Hispanic Asian</th>\n",
       "      <th>RaceOther Race - Including Multi-Racial</th>\n",
       "      <th>DIQ010Yes</th>\n",
       "      <th>DIQ010No</th>\n",
       "      <th>...</th>\n",
       "      <th>LBXSUA</th>\n",
       "      <th>MCQ160D</th>\n",
       "      <th>MCQ300A</th>\n",
       "      <th>MCQ300B</th>\n",
       "      <th>MCQ300C</th>\n",
       "      <th>MCQ365A</th>\n",
       "      <th>MCQ365B</th>\n",
       "      <th>MCQ365C</th>\n",
       "      <th>MCQ365D</th>\n",
       "      <th>y</th>\n",
       "    </tr>\n",
       "  </thead>\n",
       "  <tbody>\n",
       "    <tr>\n",
       "      <th>0</th>\n",
       "      <td>0</td>\n",
       "      <td>62</td>\n",
       "      <td>0</td>\n",
       "      <td>0</td>\n",
       "      <td>1</td>\n",
       "      <td>0</td>\n",
       "      <td>0</td>\n",
       "      <td>0</td>\n",
       "      <td>1</td>\n",
       "      <td>0</td>\n",
       "      <td>...</td>\n",
       "      <td>4.2</td>\n",
       "      <td>0</td>\n",
       "      <td>0</td>\n",
       "      <td>0</td>\n",
       "      <td>1</td>\n",
       "      <td>0</td>\n",
       "      <td>1</td>\n",
       "      <td>0</td>\n",
       "      <td>0</td>\n",
       "      <td>0</td>\n",
       "    </tr>\n",
       "    <tr>\n",
       "      <th>1</th>\n",
       "      <td>0</td>\n",
       "      <td>53</td>\n",
       "      <td>0</td>\n",
       "      <td>0</td>\n",
       "      <td>1</td>\n",
       "      <td>0</td>\n",
       "      <td>0</td>\n",
       "      <td>0</td>\n",
       "      <td>0</td>\n",
       "      <td>1</td>\n",
       "      <td>...</td>\n",
       "      <td>7.0</td>\n",
       "      <td>0</td>\n",
       "      <td>0</td>\n",
       "      <td>0</td>\n",
       "      <td>1</td>\n",
       "      <td>0</td>\n",
       "      <td>0</td>\n",
       "      <td>0</td>\n",
       "      <td>0</td>\n",
       "      <td>0</td>\n",
       "    </tr>\n",
       "    <tr>\n",
       "      <th>2</th>\n",
       "      <td>0</td>\n",
       "      <td>78</td>\n",
       "      <td>0</td>\n",
       "      <td>0</td>\n",
       "      <td>1</td>\n",
       "      <td>0</td>\n",
       "      <td>0</td>\n",
       "      <td>0</td>\n",
       "      <td>1</td>\n",
       "      <td>0</td>\n",
       "      <td>...</td>\n",
       "      <td>7.3</td>\n",
       "      <td>0</td>\n",
       "      <td>0</td>\n",
       "      <td>1</td>\n",
       "      <td>0</td>\n",
       "      <td>0</td>\n",
       "      <td>1</td>\n",
       "      <td>1</td>\n",
       "      <td>1</td>\n",
       "      <td>1</td>\n",
       "    </tr>\n",
       "    <tr>\n",
       "      <th>3</th>\n",
       "      <td>0</td>\n",
       "      <td>78</td>\n",
       "      <td>0</td>\n",
       "      <td>0</td>\n",
       "      <td>1</td>\n",
       "      <td>0</td>\n",
       "      <td>0</td>\n",
       "      <td>0</td>\n",
       "      <td>1</td>\n",
       "      <td>0</td>\n",
       "      <td>...</td>\n",
       "      <td>7.3</td>\n",
       "      <td>0</td>\n",
       "      <td>0</td>\n",
       "      <td>1</td>\n",
       "      <td>0</td>\n",
       "      <td>0</td>\n",
       "      <td>1</td>\n",
       "      <td>1</td>\n",
       "      <td>1</td>\n",
       "      <td>0</td>\n",
       "    </tr>\n",
       "    <tr>\n",
       "      <th>4</th>\n",
       "      <td>1</td>\n",
       "      <td>72</td>\n",
       "      <td>1</td>\n",
       "      <td>0</td>\n",
       "      <td>0</td>\n",
       "      <td>0</td>\n",
       "      <td>0</td>\n",
       "      <td>0</td>\n",
       "      <td>0</td>\n",
       "      <td>1</td>\n",
       "      <td>...</td>\n",
       "      <td>4.9</td>\n",
       "      <td>0</td>\n",
       "      <td>0</td>\n",
       "      <td>0</td>\n",
       "      <td>1</td>\n",
       "      <td>0</td>\n",
       "      <td>0</td>\n",
       "      <td>0</td>\n",
       "      <td>1</td>\n",
       "      <td>0</td>\n",
       "    </tr>\n",
       "  </tbody>\n",
       "</table>\n",
       "<p>5 rows × 28 columns</p>\n",
       "</div>"
      ],
      "text/plain": [
       "   Gender  Age  RaceMexican American  RaceOther Hispanic  \\\n",
       "0       0   62                     0                   0   \n",
       "1       0   53                     0                   0   \n",
       "2       0   78                     0                   0   \n",
       "3       0   78                     0                   0   \n",
       "4       1   72                     1                   0   \n",
       "\n",
       "   RaceNon-Hispanic White  RaceNon-Hispanic Black  Race6\\tNon-Hispanic Asian  \\\n",
       "0                       1                       0                          0   \n",
       "1                       1                       0                          0   \n",
       "2                       1                       0                          0   \n",
       "3                       1                       0                          0   \n",
       "4                       0                       0                          0   \n",
       "\n",
       "   RaceOther Race - Including Multi-Racial  DIQ010Yes  DIQ010No  ...  LBXSUA  \\\n",
       "0                                        0          1         0  ...     4.2   \n",
       "1                                        0          0         1  ...     7.0   \n",
       "2                                        0          1         0  ...     7.3   \n",
       "3                                        0          1         0  ...     7.3   \n",
       "4                                        0          0         1  ...     4.9   \n",
       "\n",
       "   MCQ160D  MCQ300A  MCQ300B  MCQ300C  MCQ365A  MCQ365B  MCQ365C  MCQ365D  y  \n",
       "0        0        0        0        1        0        1        0        0  0  \n",
       "1        0        0        0        1        0        0        0        0  0  \n",
       "2        0        0        1        0        0        1        1        1  1  \n",
       "3        0        0        1        0        0        1        1        1  0  \n",
       "4        0        0        0        1        0        0        0        1  0  \n",
       "\n",
       "[5 rows x 28 columns]"
      ]
     },
     "execution_count": 98,
     "metadata": {},
     "output_type": "execute_result"
    }
   ],
   "source": [
    "df2.head(5)"
   ]
  },
  {
   "cell_type": "code",
   "execution_count": 99,
   "metadata": {},
   "outputs": [
    {
     "data": {
      "text/html": [
       "<div>\n",
       "<style scoped>\n",
       "    .dataframe tbody tr th:only-of-type {\n",
       "        vertical-align: middle;\n",
       "    }\n",
       "\n",
       "    .dataframe tbody tr th {\n",
       "        vertical-align: top;\n",
       "    }\n",
       "\n",
       "    .dataframe thead th {\n",
       "        text-align: right;\n",
       "    }\n",
       "</style>\n",
       "<table border=\"1\" class=\"dataframe\">\n",
       "  <thead>\n",
       "    <tr style=\"text-align: right;\">\n",
       "      <th></th>\n",
       "      <th>Gender</th>\n",
       "      <th>Age</th>\n",
       "      <th>RaceMexican American</th>\n",
       "      <th>RaceOther Hispanic</th>\n",
       "      <th>RaceNon-Hispanic White</th>\n",
       "      <th>RaceNon-Hispanic Black</th>\n",
       "      <th>Race6\\tNon-Hispanic Asian</th>\n",
       "      <th>RaceOther Race - Including Multi-Racial</th>\n",
       "      <th>DIQ010Yes</th>\n",
       "      <th>DIQ010No</th>\n",
       "      <th>...</th>\n",
       "      <th>LBXSUA</th>\n",
       "      <th>MCQ160D</th>\n",
       "      <th>MCQ300A</th>\n",
       "      <th>MCQ300B</th>\n",
       "      <th>MCQ300C</th>\n",
       "      <th>MCQ365A</th>\n",
       "      <th>MCQ365B</th>\n",
       "      <th>MCQ365C</th>\n",
       "      <th>MCQ365D</th>\n",
       "      <th>Y</th>\n",
       "    </tr>\n",
       "  </thead>\n",
       "  <tbody>\n",
       "    <tr>\n",
       "      <th>0</th>\n",
       "      <td>0</td>\n",
       "      <td>62</td>\n",
       "      <td>0</td>\n",
       "      <td>0</td>\n",
       "      <td>1</td>\n",
       "      <td>0</td>\n",
       "      <td>0</td>\n",
       "      <td>0</td>\n",
       "      <td>1</td>\n",
       "      <td>0</td>\n",
       "      <td>...</td>\n",
       "      <td>4.2</td>\n",
       "      <td>0</td>\n",
       "      <td>0</td>\n",
       "      <td>0</td>\n",
       "      <td>1</td>\n",
       "      <td>0</td>\n",
       "      <td>1</td>\n",
       "      <td>0</td>\n",
       "      <td>0</td>\n",
       "      <td>0</td>\n",
       "    </tr>\n",
       "    <tr>\n",
       "      <th>1</th>\n",
       "      <td>0</td>\n",
       "      <td>53</td>\n",
       "      <td>0</td>\n",
       "      <td>0</td>\n",
       "      <td>1</td>\n",
       "      <td>0</td>\n",
       "      <td>0</td>\n",
       "      <td>0</td>\n",
       "      <td>0</td>\n",
       "      <td>1</td>\n",
       "      <td>...</td>\n",
       "      <td>7.0</td>\n",
       "      <td>0</td>\n",
       "      <td>0</td>\n",
       "      <td>0</td>\n",
       "      <td>1</td>\n",
       "      <td>0</td>\n",
       "      <td>0</td>\n",
       "      <td>0</td>\n",
       "      <td>0</td>\n",
       "      <td>0</td>\n",
       "    </tr>\n",
       "    <tr>\n",
       "      <th>2</th>\n",
       "      <td>0</td>\n",
       "      <td>78</td>\n",
       "      <td>0</td>\n",
       "      <td>0</td>\n",
       "      <td>1</td>\n",
       "      <td>0</td>\n",
       "      <td>0</td>\n",
       "      <td>0</td>\n",
       "      <td>1</td>\n",
       "      <td>0</td>\n",
       "      <td>...</td>\n",
       "      <td>7.3</td>\n",
       "      <td>0</td>\n",
       "      <td>0</td>\n",
       "      <td>1</td>\n",
       "      <td>0</td>\n",
       "      <td>0</td>\n",
       "      <td>1</td>\n",
       "      <td>1</td>\n",
       "      <td>1</td>\n",
       "      <td>1</td>\n",
       "    </tr>\n",
       "    <tr>\n",
       "      <th>3</th>\n",
       "      <td>0</td>\n",
       "      <td>78</td>\n",
       "      <td>0</td>\n",
       "      <td>0</td>\n",
       "      <td>1</td>\n",
       "      <td>0</td>\n",
       "      <td>0</td>\n",
       "      <td>0</td>\n",
       "      <td>1</td>\n",
       "      <td>0</td>\n",
       "      <td>...</td>\n",
       "      <td>7.3</td>\n",
       "      <td>0</td>\n",
       "      <td>0</td>\n",
       "      <td>1</td>\n",
       "      <td>0</td>\n",
       "      <td>0</td>\n",
       "      <td>1</td>\n",
       "      <td>1</td>\n",
       "      <td>1</td>\n",
       "      <td>0</td>\n",
       "    </tr>\n",
       "    <tr>\n",
       "      <th>4</th>\n",
       "      <td>1</td>\n",
       "      <td>72</td>\n",
       "      <td>1</td>\n",
       "      <td>0</td>\n",
       "      <td>0</td>\n",
       "      <td>0</td>\n",
       "      <td>0</td>\n",
       "      <td>0</td>\n",
       "      <td>0</td>\n",
       "      <td>1</td>\n",
       "      <td>...</td>\n",
       "      <td>4.9</td>\n",
       "      <td>0</td>\n",
       "      <td>0</td>\n",
       "      <td>0</td>\n",
       "      <td>1</td>\n",
       "      <td>0</td>\n",
       "      <td>0</td>\n",
       "      <td>0</td>\n",
       "      <td>1</td>\n",
       "      <td>0</td>\n",
       "    </tr>\n",
       "  </tbody>\n",
       "</table>\n",
       "<p>5 rows × 28 columns</p>\n",
       "</div>"
      ],
      "text/plain": [
       "   Gender  Age  RaceMexican American  RaceOther Hispanic  \\\n",
       "0       0   62                     0                   0   \n",
       "1       0   53                     0                   0   \n",
       "2       0   78                     0                   0   \n",
       "3       0   78                     0                   0   \n",
       "4       1   72                     1                   0   \n",
       "\n",
       "   RaceNon-Hispanic White  RaceNon-Hispanic Black  Race6\\tNon-Hispanic Asian  \\\n",
       "0                       1                       0                          0   \n",
       "1                       1                       0                          0   \n",
       "2                       1                       0                          0   \n",
       "3                       1                       0                          0   \n",
       "4                       0                       0                          0   \n",
       "\n",
       "   RaceOther Race - Including Multi-Racial  DIQ010Yes  DIQ010No  ...  LBXSUA  \\\n",
       "0                                        0          1         0  ...     4.2   \n",
       "1                                        0          0         1  ...     7.0   \n",
       "2                                        0          1         0  ...     7.3   \n",
       "3                                        0          1         0  ...     7.3   \n",
       "4                                        0          0         1  ...     4.9   \n",
       "\n",
       "   MCQ160D  MCQ300A  MCQ300B  MCQ300C  MCQ365A  MCQ365B  MCQ365C  MCQ365D  Y  \n",
       "0        0        0        0        1        0        1        0        0  0  \n",
       "1        0        0        0        1        0        0        0        0  0  \n",
       "2        0        0        1        0        0        1        1        1  1  \n",
       "3        0        0        1        0        0        1        1        1  0  \n",
       "4        0        0        0        1        0        0        0        1  0  \n",
       "\n",
       "[5 rows x 28 columns]"
      ]
     },
     "execution_count": 99,
     "metadata": {},
     "output_type": "execute_result"
    }
   ],
   "source": [
    "df2=df2.rename(columns={'y':'Y'})\n",
    "df2.head(5)"
   ]
  },
  {
   "cell_type": "code",
   "execution_count": 100,
   "metadata": {},
   "outputs": [
    {
     "name": "stdout",
     "output_type": "stream",
     "text": [
      "(5451, 27)\n",
      "(5451,)\n"
     ]
    }
   ],
   "source": [
    "Y=df2['Y']\n",
    "X=df2[df2.columns[:-1]]\n",
    "print(X.shape)\n",
    "print(Y.shape)"
   ]
  },
  {
   "cell_type": "code",
   "execution_count": 110,
   "metadata": {},
   "outputs": [],
   "source": [
    "\n",
    "X_train, X_test, y_train, y_test = train_test_split(X, Y, test_size=0.25, random_state=0)\n",
    "\n",
    "X_train=pd.DataFrame(X_train)\n",
    "X_test=pd.DataFrame(X_test)\n",
    "y_train=pd.DataFrame(y_train)\n",
    "y_test=pd.DataFrame(y_test)\n",
    "\n",
    "trainDf = pd.concat([y_train, X_train], axis=1)\n",
    "\n",
    "testDf = pd.concat([y_test, X_test], axis=1)\n",
    "clasTest = testDf.groupby('Y')['Y'].count()"
   ]
  },
  {
   "cell_type": "code",
   "execution_count": 124,
   "metadata": {},
   "outputs": [],
   "source": [
    "\n",
    "\n",
    "#变量分箱（binning）是对连续变量离散化（discretization）的一种称呼。信用评分卡开发中一般有常用的等距分段、等深分段、最优分段。其中等距分段（Equval length intervals）是指分段的区间是一致的，比如年龄以十年作为一个分段；等深分段（Equal frequency intervals）是先确定分段数量，然后令每个分段中数据数量大致相等；最优分段（Optimal Binning）又叫监督离散化（supervised discretizaion），使用递归划分（Recursive Partitioning）将连续变量分为分段，背后是一种基于条件推断查找较佳分组的算法。\n",
    "#调用库包：\n",
    "import numpy as np\n",
    "import pandas as pd\n",
    "import matplotlib.pyplot as plt\n",
    "import seaborn as sns\n",
    "from scipy import stats\n",
    "%matplotlib inline\n",
    "\n",
    "def mono_bin(Y, X, n ):\n",
    "    r = 0  #设定斯皮尔曼初始值\n",
    "    good=Y.sum()   #好客户的人数\n",
    "    bad=Y.count()-good   #坏客户的人数\n",
    "  #分箱的核心是用机器来选最优的分箱节点\n",
    "    while np.abs(r) < 1:   #while ,不满足条件时，跳出循环\n",
    "        d1 = pd.DataFrame({\"X\": X, \"Y\": Y, \"Bucket\": pd.qcut(X, n)}) \n",
    "#注意这里是pd.qcut, Bucket：将 X 分为 n 段，n由斯皮尔曼系数决定\n",
    "        d2 = d1.groupby('Bucket', as_index = True)\n",
    "        r, p = stats.spearmanr(d2.mean().X, d2.mean().Y)    # 以斯皮尔曼系数作为分箱终止条件\n",
    "        n = n - 1\n",
    "    d3 = pd.DataFrame(d2.X.min(), columns = ['min'])\n",
    "    d3['min']=d2.min().X    #  min 就是分箱的节点\n",
    "    d3['max'] = d2.max().X\n",
    "    d3['sum'] = d2.sum().Y\n",
    "    d3['total'] = d2.count().Y\n",
    "    d3['rate'] = d2.mean().Y\n",
    "    d3['woe']=np.log((d3['rate']/(1-d3['rate']))/(good/bad))\n",
    "    d3['goodattribute']=d3['sum']/good\n",
    "    d3['badattribute']=(d3['total']-d3['sum'])/bad\n",
    "    iv=((d3['goodattribute']-d3['badattribute'])*d3['woe']).sum()   #返回 iv\n",
    "    d4 = (d3.sort_index(by = ['min'])).reset_index(drop=True)    # 返回 d  \n",
    "    woe=list(d4['woe'].round(3))             #返回 woe\n",
    "    cut=[]    #  cut 存放箱段节点\n",
    "    cut.append(float('-inf'))  # 在列表前加 -inf \n",
    "    for i in range(1,n+1):            # n 是前面分箱的分割数  ，所以分成n+1份\n",
    "         qua=X.quantile(i/(n+1))     #quantile 分为数 得到分箱的节点\n",
    "         cut.append(round(qua,4))   # 保留4位小数，返回cut\n",
    "    cut.append(float('inf')) # 在列表后加inf\n",
    "    return d4,iv,cut,woe"
   ]
  },
  {
   "cell_type": "code",
   "execution_count": 126,
   "metadata": {},
   "outputs": [
    {
     "ename": "TypeError",
     "evalue": "sort_index() got an unexpected keyword argument 'by'",
     "output_type": "error",
     "traceback": [
      "\u001b[0;31m---------------------------------------------------------------------------\u001b[0m",
      "\u001b[0;31mTypeError\u001b[0m                                 Traceback (most recent call last)",
      "\u001b[0;32m<ipython-input-126-e3ccb2a7f671>\u001b[0m in \u001b[0;36m<module>\u001b[0;34m\u001b[0m\n\u001b[0;32m----> 1\u001b[0;31m \u001b[0mdfx1\u001b[0m\u001b[0;34m,\u001b[0m\u001b[0mivx1\u001b[0m\u001b[0;34m,\u001b[0m\u001b[0mcutx1\u001b[0m\u001b[0;34m,\u001b[0m\u001b[0mwoex1\u001b[0m\u001b[0;34m=\u001b[0m\u001b[0mmono_bin\u001b[0m\u001b[0;34m(\u001b[0m\u001b[0mtrainDf\u001b[0m\u001b[0;34m.\u001b[0m\u001b[0mY\u001b[0m\u001b[0;34m,\u001b[0m\u001b[0mtrainDf\u001b[0m\u001b[0;34m.\u001b[0m\u001b[0mAge\u001b[0m\u001b[0;34m,\u001b[0m\u001b[0mn\u001b[0m\u001b[0;34m=\u001b[0m\u001b[0;36m10\u001b[0m\u001b[0;34m)\u001b[0m \u001b[0;31m#Age\u001b[0m\u001b[0;34m\u001b[0m\u001b[0;34m\u001b[0m\u001b[0m\n\u001b[0m",
      "\u001b[0;32m<ipython-input-124-8ab053d70380>\u001b[0m in \u001b[0;36mmono_bin\u001b[0;34m(Y, X, n)\u001b[0m\n\u001b[1;32m     29\u001b[0m     \u001b[0md3\u001b[0m\u001b[0;34m[\u001b[0m\u001b[0;34m'badattribute'\u001b[0m\u001b[0;34m]\u001b[0m\u001b[0;34m=\u001b[0m\u001b[0;34m(\u001b[0m\u001b[0md3\u001b[0m\u001b[0;34m[\u001b[0m\u001b[0;34m'total'\u001b[0m\u001b[0;34m]\u001b[0m\u001b[0;34m-\u001b[0m\u001b[0md3\u001b[0m\u001b[0;34m[\u001b[0m\u001b[0;34m'sum'\u001b[0m\u001b[0;34m]\u001b[0m\u001b[0;34m)\u001b[0m\u001b[0;34m/\u001b[0m\u001b[0mbad\u001b[0m\u001b[0;34m\u001b[0m\u001b[0;34m\u001b[0m\u001b[0m\n\u001b[1;32m     30\u001b[0m     \u001b[0miv\u001b[0m\u001b[0;34m=\u001b[0m\u001b[0;34m(\u001b[0m\u001b[0;34m(\u001b[0m\u001b[0md3\u001b[0m\u001b[0;34m[\u001b[0m\u001b[0;34m'goodattribute'\u001b[0m\u001b[0;34m]\u001b[0m\u001b[0;34m-\u001b[0m\u001b[0md3\u001b[0m\u001b[0;34m[\u001b[0m\u001b[0;34m'badattribute'\u001b[0m\u001b[0;34m]\u001b[0m\u001b[0;34m)\u001b[0m\u001b[0;34m*\u001b[0m\u001b[0md3\u001b[0m\u001b[0;34m[\u001b[0m\u001b[0;34m'woe'\u001b[0m\u001b[0;34m]\u001b[0m\u001b[0;34m)\u001b[0m\u001b[0;34m.\u001b[0m\u001b[0msum\u001b[0m\u001b[0;34m(\u001b[0m\u001b[0;34m)\u001b[0m   \u001b[0;31m#返回 iv\u001b[0m\u001b[0;34m\u001b[0m\u001b[0;34m\u001b[0m\u001b[0m\n\u001b[0;32m---> 31\u001b[0;31m     \u001b[0md4\u001b[0m \u001b[0;34m=\u001b[0m \u001b[0;34m(\u001b[0m\u001b[0md3\u001b[0m\u001b[0;34m.\u001b[0m\u001b[0msort_index\u001b[0m\u001b[0;34m(\u001b[0m\u001b[0mby\u001b[0m \u001b[0;34m=\u001b[0m \u001b[0;34m[\u001b[0m\u001b[0;34m'min'\u001b[0m\u001b[0;34m]\u001b[0m\u001b[0;34m)\u001b[0m\u001b[0;34m)\u001b[0m\u001b[0;34m.\u001b[0m\u001b[0mreset_index\u001b[0m\u001b[0;34m(\u001b[0m\u001b[0mdrop\u001b[0m\u001b[0;34m=\u001b[0m\u001b[0;32mTrue\u001b[0m\u001b[0;34m)\u001b[0m    \u001b[0;31m# 返回 d\u001b[0m\u001b[0;34m\u001b[0m\u001b[0;34m\u001b[0m\u001b[0m\n\u001b[0m\u001b[1;32m     32\u001b[0m     \u001b[0mwoe\u001b[0m\u001b[0;34m=\u001b[0m\u001b[0mlist\u001b[0m\u001b[0;34m(\u001b[0m\u001b[0md4\u001b[0m\u001b[0;34m[\u001b[0m\u001b[0;34m'woe'\u001b[0m\u001b[0;34m]\u001b[0m\u001b[0;34m.\u001b[0m\u001b[0mround\u001b[0m\u001b[0;34m(\u001b[0m\u001b[0;36m3\u001b[0m\u001b[0;34m)\u001b[0m\u001b[0;34m)\u001b[0m             \u001b[0;31m#返回 woe\u001b[0m\u001b[0;34m\u001b[0m\u001b[0;34m\u001b[0m\u001b[0m\n\u001b[1;32m     33\u001b[0m     \u001b[0mcut\u001b[0m\u001b[0;34m=\u001b[0m\u001b[0;34m[\u001b[0m\u001b[0;34m]\u001b[0m    \u001b[0;31m#  cut 存放箱段节点\u001b[0m\u001b[0;34m\u001b[0m\u001b[0;34m\u001b[0m\u001b[0m\n",
      "\u001b[0;31mTypeError\u001b[0m: sort_index() got an unexpected keyword argument 'by'"
     ]
    }
   ],
   "source": [
    "dfx1,ivx1,cutx1,woex1=mono_bin(trainDf.Y,trainDf.Age,n=10) #Age"
   ]
  },
  {
   "cell_type": "code",
   "execution_count": 82,
   "metadata": {},
   "outputs": [
    {
     "ename": "TypeError",
     "evalue": "sort_index() got an unexpected keyword argument 'by'",
     "output_type": "error",
     "traceback": [
      "\u001b[0;31m---------------------------------------------------------------------------\u001b[0m",
      "\u001b[0;31mTypeError\u001b[0m                                 Traceback (most recent call last)",
      "\u001b[0;32m<ipython-input-82-f5deaa7c36fa>\u001b[0m in \u001b[0;36m<module>\u001b[0;34m\u001b[0m\n\u001b[0;32m----> 1\u001b[0;31m \u001b[0mdfx1\u001b[0m\u001b[0;34m,\u001b[0m\u001b[0mivx1\u001b[0m\u001b[0;34m,\u001b[0m\u001b[0mcutx1\u001b[0m\u001b[0;34m,\u001b[0m\u001b[0mwoex1\u001b[0m\u001b[0;34m=\u001b[0m\u001b[0mmono_bin\u001b[0m\u001b[0;34m(\u001b[0m\u001b[0mtrainDf\u001b[0m\u001b[0;34m.\u001b[0m\u001b[0mY\u001b[0m\u001b[0;34m,\u001b[0m\u001b[0mtrainDf\u001b[0m\u001b[0;34m.\u001b[0m\u001b[0mAge\u001b[0m\u001b[0;34m,\u001b[0m\u001b[0mn\u001b[0m\u001b[0;34m=\u001b[0m\u001b[0;36m10\u001b[0m\u001b[0;34m)\u001b[0m \u001b[0;31m#Age\u001b[0m\u001b[0;34m\u001b[0m\u001b[0;34m\u001b[0m\u001b[0m\n\u001b[0m\u001b[1;32m      2\u001b[0m \u001b[0mdfx2\u001b[0m\u001b[0;34m,\u001b[0m \u001b[0mivx2\u001b[0m\u001b[0;34m,\u001b[0m\u001b[0mcutx2\u001b[0m\u001b[0;34m,\u001b[0m\u001b[0mwoex2\u001b[0m\u001b[0;34m=\u001b[0m\u001b[0mmono_bin\u001b[0m\u001b[0;34m(\u001b[0m\u001b[0mtrainDf\u001b[0m\u001b[0;34m.\u001b[0m\u001b[0mY\u001b[0m\u001b[0;34m,\u001b[0m\u001b[0mtrainDf\u001b[0m\u001b[0;34m.\u001b[0m\u001b[0mBMXBMI\u001b[0m\u001b[0;34m,\u001b[0m\u001b[0mn\u001b[0m\u001b[0;34m=\u001b[0m\u001b[0;36m20\u001b[0m\u001b[0;34m)\u001b[0m   \u001b[0;31m# BMI\u001b[0m\u001b[0;34m\u001b[0m\u001b[0;34m\u001b[0m\u001b[0m\n\u001b[1;32m      3\u001b[0m \u001b[0mdfx4\u001b[0m\u001b[0;34m,\u001b[0m \u001b[0mivx4\u001b[0m\u001b[0;34m,\u001b[0m\u001b[0mcutx4\u001b[0m\u001b[0;34m,\u001b[0m\u001b[0mwoex4\u001b[0m\u001b[0;34m=\u001b[0m\u001b[0mmono_bin\u001b[0m\u001b[0;34m(\u001b[0m\u001b[0mtrainDf\u001b[0m\u001b[0;34m.\u001b[0m\u001b[0mY\u001b[0m\u001b[0;34m,\u001b[0m\u001b[0mtrainDf\u001b[0m\u001b[0;34m.\u001b[0m\u001b[0mBPXPLS\u001b[0m\u001b[0;34m,\u001b[0m\u001b[0mn\u001b[0m\u001b[0;34m=\u001b[0m\u001b[0;36m20\u001b[0m\u001b[0;34m)\u001b[0m   \u001b[0;31m#Pluse\u001b[0m\u001b[0;34m\u001b[0m\u001b[0;34m\u001b[0m\u001b[0m\n\u001b[1;32m      4\u001b[0m \u001b[0mdfx5\u001b[0m\u001b[0;34m,\u001b[0m \u001b[0mivx5\u001b[0m\u001b[0;34m,\u001b[0m\u001b[0mcutx5\u001b[0m\u001b[0;34m,\u001b[0m\u001b[0mwoex5\u001b[0m\u001b[0;34m=\u001b[0m\u001b[0mmono_bin\u001b[0m\u001b[0;34m(\u001b[0m\u001b[0mtrainDf\u001b[0m\u001b[0;34m.\u001b[0m\u001b[0mY\u001b[0m\u001b[0;34m,\u001b[0m\u001b[0mtrainDf\u001b[0m\u001b[0;34m.\u001b[0m\u001b[0mavgSY\u001b[0m\u001b[0;34m,\u001b[0m\u001b[0mn\u001b[0m\u001b[0;34m=\u001b[0m\u001b[0;36m20\u001b[0m\u001b[0;34m)\u001b[0m  \u001b[0;31m#avgSY\u001b[0m\u001b[0;34m\u001b[0m\u001b[0;34m\u001b[0m\u001b[0m\n\u001b[1;32m      5\u001b[0m \u001b[0mdfx6\u001b[0m\u001b[0;34m,\u001b[0m \u001b[0mivx6\u001b[0m\u001b[0;34m,\u001b[0m\u001b[0mcutx6\u001b[0m\u001b[0;34m,\u001b[0m\u001b[0mwoex6\u001b[0m\u001b[0;34m=\u001b[0m\u001b[0mmono_bin\u001b[0m\u001b[0;34m(\u001b[0m\u001b[0mtrainDf\u001b[0m\u001b[0;34m.\u001b[0m\u001b[0mY\u001b[0m\u001b[0;34m,\u001b[0m\u001b[0mtrainDf\u001b[0m\u001b[0;34m.\u001b[0m\u001b[0mavgDI\u001b[0m\u001b[0;34m,\u001b[0m\u001b[0mn\u001b[0m\u001b[0;34m=\u001b[0m\u001b[0;36m20\u001b[0m\u001b[0;34m)\u001b[0m  \u001b[0;31m#avgDI\u001b[0m\u001b[0;34m\u001b[0m\u001b[0;34m\u001b[0m\u001b[0m\n",
      "\u001b[0;32m<ipython-input-80-fcc5eda220df>\u001b[0m in \u001b[0;36mmono_bin\u001b[0;34m(Y, X, n)\u001b[0m\n\u001b[1;32m     30\u001b[0m     \u001b[0miv\u001b[0m\u001b[0;34m=\u001b[0m\u001b[0;34m(\u001b[0m\u001b[0;34m(\u001b[0m\u001b[0md3\u001b[0m\u001b[0;34m[\u001b[0m\u001b[0;34m'goodattribute'\u001b[0m\u001b[0;34m]\u001b[0m\u001b[0;34m-\u001b[0m\u001b[0md3\u001b[0m\u001b[0;34m[\u001b[0m\u001b[0;34m'badattribute'\u001b[0m\u001b[0;34m]\u001b[0m\u001b[0;34m)\u001b[0m\u001b[0;34m*\u001b[0m\u001b[0md3\u001b[0m\u001b[0;34m[\u001b[0m\u001b[0;34m'woe'\u001b[0m\u001b[0;34m]\u001b[0m\u001b[0;34m)\u001b[0m\u001b[0;34m.\u001b[0m\u001b[0msum\u001b[0m\u001b[0;34m(\u001b[0m\u001b[0;34m)\u001b[0m   \u001b[0;31m#返回 iv\u001b[0m\u001b[0;34m\u001b[0m\u001b[0;34m\u001b[0m\u001b[0m\n\u001b[1;32m     31\u001b[0m     \u001b[0md3\u001b[0m\u001b[0;34m=\u001b[0m \u001b[0mpd\u001b[0m\u001b[0;34m.\u001b[0m\u001b[0mDataFrame\u001b[0m\u001b[0;34m(\u001b[0m\u001b[0md3\u001b[0m\u001b[0;34m)\u001b[0m\u001b[0;34m\u001b[0m\u001b[0;34m\u001b[0m\u001b[0m\n\u001b[0;32m---> 32\u001b[0;31m     \u001b[0md4\u001b[0m \u001b[0;34m=\u001b[0m \u001b[0;34m(\u001b[0m\u001b[0md3\u001b[0m\u001b[0;34m.\u001b[0m\u001b[0msort_index\u001b[0m\u001b[0;34m(\u001b[0m\u001b[0mby\u001b[0m \u001b[0;34m=\u001b[0m \u001b[0;34m'min'\u001b[0m\u001b[0;34m)\u001b[0m\u001b[0;34m)\u001b[0m\u001b[0;34m.\u001b[0m\u001b[0mreset_index\u001b[0m\u001b[0;34m(\u001b[0m\u001b[0mdrop\u001b[0m\u001b[0;34m=\u001b[0m\u001b[0;32mTrue\u001b[0m\u001b[0;34m)\u001b[0m    \u001b[0;31m# 返回 d\u001b[0m\u001b[0;34m\u001b[0m\u001b[0;34m\u001b[0m\u001b[0m\n\u001b[0m\u001b[1;32m     33\u001b[0m     \u001b[0mwoe\u001b[0m\u001b[0;34m=\u001b[0m\u001b[0mlist\u001b[0m\u001b[0;34m(\u001b[0m\u001b[0md4\u001b[0m\u001b[0;34m[\u001b[0m\u001b[0;34m'woe'\u001b[0m\u001b[0;34m]\u001b[0m\u001b[0;34m.\u001b[0m\u001b[0mround\u001b[0m\u001b[0;34m(\u001b[0m\u001b[0;36m3\u001b[0m\u001b[0;34m)\u001b[0m\u001b[0;34m)\u001b[0m             \u001b[0;31m#返回 woe\u001b[0m\u001b[0;34m\u001b[0m\u001b[0;34m\u001b[0m\u001b[0m\n\u001b[1;32m     34\u001b[0m     \u001b[0mcut\u001b[0m\u001b[0;34m=\u001b[0m\u001b[0;34m[\u001b[0m\u001b[0;34m]\u001b[0m    \u001b[0;31m#  cut 存放箱段节点\u001b[0m\u001b[0;34m\u001b[0m\u001b[0;34m\u001b[0m\u001b[0m\n",
      "\u001b[0;31mTypeError\u001b[0m: sort_index() got an unexpected keyword argument 'by'"
     ]
    }
   ],
   "source": [
    "dfx1,ivx1,cutx1,woex1=mono_bin(trainDf.Y,trainDf.Age,n=10) #Age\n",
    "dfx2, ivx2,cutx2,woex2=mono_bin(trainDf.Y,trainDf.BMXBMI,n=20)   # BMI\n",
    "dfx4, ivx4,cutx4,woex4=mono_bin(trainDf.Y,trainDf.BPXPLS,n=20)   #Pluse\n",
    "dfx5, ivx5,cutx5,woex5=mono_bin(trainDf.Y,trainDf.avgSY,n=20)  #avgSY\n",
    "dfx6, ivx6,cutx6,woex6=mono_bin(trainDf.Y,trainDf.avgDI,n=20)  #avgDI\n",
    "dfx7, ivx7,cutx7,woex7=mono_bin(trainDf.Y,trainDf.LBDTCSI,n=20)  #CSI\n",
    "dfx8, ivx8,cutx8,woex8=mono_bin(trainDf.Y,trainDf.AI,n=20)  #AI\n",
    "dfx9, ivx9,cutx9,woex9=mono_bin(trainDf.Y,trainDf.LBXMCVSI,n=20)  #LBXMCVSI\n",
    "dfx10, ivx10,cutx10,woex10=mono_bin(trainDf.Y,trainDf.LBXSCR,n=20)  #LBXSCR\n",
    "dfx11, ivx11,cutx11,woex11=mono_bin(trainDf.Y,trainDf.LBXSUA,n=20)  #UA\n"
   ]
  },
  {
   "cell_type": "code",
   "execution_count": 8,
   "metadata": {},
   "outputs": [],
   "source": [
    "class LogisticRegressionClassifier:\n",
    "\n",
    "    def __init__(self, n=100):\n",
    "        self.n = n\n",
    "\n",
    "    def fit(self, X, y, random_state=42, criterion='entropy'):\n",
    "        X_train_p = X[y==1]\n",
    "        X_train_n = X[y==0]\n",
    "        y_train_p = y[y==1]\n",
    "        y_train_n = y[y==0]\n",
    "        l = sum(y_train_p)\n",
    "        clf_list = []\n",
    "        np.random.seed(seed=random_state)\n",
    "        for i in range(self.n):\n",
    "            idx_n = np.random.choice(range(X_train_n.shape[0]), l)\n",
    "            idx_p = np.random.choice(range(X_train_p.shape[0]), l)\n",
    "            X_train_f = np.concatenate([X_train_n[idx_n, :], X_train_p[idx_p]])\n",
    "            y_train_f = np.concatenate([y_train_n[idx_n], y_train_p[idx_p]])\n",
    "            clf = LogisticRegression()\n",
    "            clf.fit(X_train_f, y_train_f)\n",
    "            clf_list.append(clf)\n",
    "            print(f'\\rClassifier {i+1} completed.', end='')\n",
    "        self.clfs = clf_list        \n",
    "    \n",
    "    def coefficients(self):\n",
    "        feature_importance = abs(self.clfs[0].coef_)\n",
    "        for tree in self.clfs[1:]:\n",
    "            feature_importance += tree.coef_\n",
    "        return feature_importance/ self.n\n",
    "    \n",
    "    def predict(self, X):\n",
    "        result_list = list(map(lambda clf: clf.predict_proba(X)[:,1], self.clfs))\n",
    "        score = reduce(lambda a, b: a+b, result_list) / len(self.clfs)\n",
    "        return score\n",
    "        \n",
    "    def report(self, X, y):\n",
    "        y_hat = self.predict(X)\n",
    "        print(classification_report(y_test, 1.*(y_hat>0.5)))"
   ]
  },
  {
   "cell_type": "code",
   "execution_count": 10,
   "metadata": {},
   "outputs": [
    {
     "name": "stdout",
     "output_type": "stream",
     "text": [
      "Classifier 100 completed."
     ]
    }
   ],
   "source": [
    "btc = LogisticRegressionClassifier()\n",
    "btc.fit(X_train, y_train)\n",
    "y_hat = 1.0 * (btc.predict(X_test)>0.5)"
   ]
  },
  {
   "cell_type": "code",
   "execution_count": 11,
   "metadata": {},
   "outputs": [
    {
     "data": {
      "text/plain": [
       "array([[-0.29562797,  0.06326452, -0.57471256,  0.0863238 ,  0.23061377,\n",
       "         0.14014762, -0.44209936,  0.26228719,  0.14436029, -0.3307419 ,\n",
       "        -0.02471116, -0.01478881, -0.00802056, -0.01736374, -0.38046477,\n",
       "         0.08433698,  0.00137112,  0.13512337,  0.09530151,  1.28500054,\n",
       "         0.79504799,  0.08351153,  0.37482371,  0.11114733,  0.05663308,\n",
       "         0.73491703,  0.47825108]])"
      ]
     },
     "execution_count": 11,
     "metadata": {},
     "output_type": "execute_result"
    }
   ],
   "source": [
    "btc.coefficients()"
   ]
  },
  {
   "cell_type": "code",
   "execution_count": 12,
   "metadata": {},
   "outputs": [],
   "source": [
    "reshaped_cof = pd.DataFrame(btc.coefficients().reshape(-1,1))\n",
    "predictors = pd.DataFrame(df.columns)\n",
    "predictors_final = predictors.drop(predictors.index[0], axis=0)\n",
    "predictors_final.index = np.arange(1,len(predictors_final)+1)\n",
    "reshaped_cof.index =  np.arange(1,len(reshaped_cof)+1)"
   ]
  },
  {
   "cell_type": "code",
   "execution_count": 13,
   "metadata": {},
   "outputs": [],
   "source": [
    "coefficient_tb1= pd.concat([predictors_final,reshaped_cof], axis=1, ignore_index=True)\n",
    "coefficient_tb2 = coefficient_tb1.rename(columns={0: \"Predictor\", 1: \"Coefficient\"})\n",
    "coefficient_tb_final = coefficient_tb2.sort_values(by=[\"Coefficient\"],ascending=False)\n",
    "coefficient_tb_final.head(10)\n",
    "coefficient_tb_final.to_csv('coefficient_tb_final.csv')"
   ]
  },
  {
   "cell_type": "code",
   "execution_count": 14,
   "metadata": {},
   "outputs": [
    {
     "name": "stdout",
     "output_type": "stream",
     "text": [
      "              precision    recall  f1-score   support\n",
      "\n",
      "           0       0.98      0.77      0.86      1275\n",
      "           1       0.18      0.73      0.29        88\n",
      "\n",
      "    accuracy                           0.77      1363\n",
      "   macro avg       0.58      0.75      0.57      1363\n",
      "weighted avg       0.92      0.77      0.82      1363\n",
      "\n"
     ]
    }
   ],
   "source": [
    "print(classification_report(y_true=y_test, y_pred=y_hat))"
   ]
  },
  {
   "cell_type": "code",
   "execution_count": 29,
   "metadata": {},
   "outputs": [],
   "source": [
    "import matplotlib.pyplot as plt\n",
    "import seaborn as sns\n",
    "from sklearn import metrics"
   ]
  },
  {
   "cell_type": "code",
   "execution_count": 15,
   "metadata": {},
   "outputs": [
    {
     "data": {
      "text/plain": [
       "0.28635346756152125"
      ]
     },
     "execution_count": 15,
     "metadata": {},
     "output_type": "execute_result"
    }
   ],
   "source": [
    "f1_score(y_true=y_test, y_pred=y_hat)"
   ]
  },
  {
   "cell_type": "code",
   "execution_count": 16,
   "metadata": {},
   "outputs": [
    {
     "data": {
      "text/plain": [
       "0.7659574468085106"
      ]
     },
     "execution_count": 16,
     "metadata": {},
     "output_type": "execute_result"
    }
   ],
   "source": [
    "accuracy_score(y_true=y_test, y_pred=y_hat)"
   ]
  },
  {
   "cell_type": "code",
   "execution_count": 34,
   "metadata": {},
   "outputs": [
    {
     "name": "stdout",
     "output_type": "stream",
     "text": [
      "[[980 295]\n",
      " [ 24  64]]\n"
     ]
    }
   ],
   "source": [
    "cm = metrics.confusion_matrix(y_test, y_hat)\n",
    "print(cm)\n"
   ]
  },
  {
   "cell_type": "code",
   "execution_count": 36,
   "metadata": {},
   "outputs": [
    {
     "data": {
      "text/plain": [
       "(array([0., 0., 0., 0., 0., 0., 0., 0., 0., 0., 0., 0., 0., 0., 0., 0., 0.,\n",
       "        0., 0., 0., 0., 0., 0., 0., 0., 0., 0., 0., 0., 0., 0., 0., 0., 0.,\n",
       "        0., 0., 0., 0., 0., 0., 0., 0., 0., 0., 0., 0., 0., 0., 0., 0., 1.,\n",
       "        0., 0., 0., 0., 0., 0., 0., 0., 0., 0., 0., 0., 0., 0., 0., 0., 0.,\n",
       "        0., 0., 0., 0., 0., 0., 0., 0., 0., 0., 0., 0., 0., 0., 0., 0., 0.,\n",
       "        0., 0., 0., 0., 0., 0., 0., 0., 0., 0., 0., 0., 0., 0., 0.]),\n",
       " array([-27.5 , -27.49, -27.48, -27.47, -27.46, -27.45, -27.44, -27.43,\n",
       "        -27.42, -27.41, -27.4 , -27.39, -27.38, -27.37, -27.36, -27.35,\n",
       "        -27.34, -27.33, -27.32, -27.31, -27.3 , -27.29, -27.28, -27.27,\n",
       "        -27.26, -27.25, -27.24, -27.23, -27.22, -27.21, -27.2 , -27.19,\n",
       "        -27.18, -27.17, -27.16, -27.15, -27.14, -27.13, -27.12, -27.11,\n",
       "        -27.1 , -27.09, -27.08, -27.07, -27.06, -27.05, -27.04, -27.03,\n",
       "        -27.02, -27.01, -27.  , -26.99, -26.98, -26.97, -26.96, -26.95,\n",
       "        -26.94, -26.93, -26.92, -26.91, -26.9 , -26.89, -26.88, -26.87,\n",
       "        -26.86, -26.85, -26.84, -26.83, -26.82, -26.81, -26.8 , -26.79,\n",
       "        -26.78, -26.77, -26.76, -26.75, -26.74, -26.73, -26.72, -26.71,\n",
       "        -26.7 , -26.69, -26.68, -26.67, -26.66, -26.65, -26.64, -26.63,\n",
       "        -26.62, -26.61, -26.6 , -26.59, -26.58, -26.57, -26.56, -26.55,\n",
       "        -26.54, -26.53, -26.52, -26.51, -26.5 ]),\n",
       " <a list of 100 Patch objects>)"
      ]
     },
     "execution_count": 36,
     "metadata": {},
     "output_type": "execute_result"
    },
    {
     "data": {
      "image/png": "[encoded data removed]",
      "text/plain": [
       "<Figure size 432x288 with 1 Axes>"
      ]
     },
     "metadata": {
      "needs_background": "light"
     },
     "output_type": "display_data"
    }
   ],
   "source": [
    "\n",
    "y=(980*64)/(295*24)\n",
    "\n",
    "def Prob2Score(prob, basePoint, PDO):\n",
    "    #将概率转化成分数且为正整数\n",
    "    y = (980*64)/(295*24)\n",
    "    return int(basePoint+PDO/np.log(2)*(-y))\n",
    " \n",
    "BasePoint, PDO = 100,10\n",
    "y_hat2 = y_hat.apply(lambda x: Prob2Score(x, BasePoint, PDO))\n",
    "plt.hist(y_hat2,bins=100)\n",
    "\n",
    "\n"
   ]
  },
  {
   "cell_type": "code",
   "execution_count": null,
   "metadata": {},
   "outputs": [],
   "source": [
    "def Prob2Score(prob, basePoint, PDO):\n",
    "    #将概率转化成分数且为正整数\n",
    "    y = np.log(prob/(1-prob))\n",
    "    return int(basePoint+PDO/np.log(2)*(-y))\n",
    " \n",
    "BasePoint, PDO = 500,50\n",
    "testData['score'] = testData['pred'].apply(lambda x: Prob2Score(x, BasePoint, PDO))\n",
    "plt.hist(testData['score'],bins=100)\n"
   ]
  },
  {
   "cell_type": "code",
   "execution_count": 17,
   "metadata": {},
   "outputs": [
    {
     "data": {
      "text/plain": [
       "array([[980, 295],\n",
       "       [ 24,  64]])"
      ]
     },
     "execution_count": 17,
     "metadata": {},
     "output_type": "execute_result"
    }
   ],
   "source": [
    "confusion_matrix(y_true=y_test, y_pred=y_hat)"
   ]
  },
  {
   "cell_type": "code",
   "execution_count": null,
   "metadata": {},
   "outputs": [],
   "source": []
  },
  {
   "cell_type": "code",
   "execution_count": 19,
   "metadata": {},
   "outputs": [
    {
     "data": {
      "text/html": [
       "<div>\n",
       "<style scoped>\n",
       "    .dataframe tbody tr th:only-of-type {\n",
       "        vertical-align: middle;\n",
       "    }\n",
       "\n",
       "    .dataframe tbody tr th {\n",
       "        vertical-align: top;\n",
       "    }\n",
       "\n",
       "    .dataframe thead th {\n",
       "        text-align: right;\n",
       "    }\n",
       "</style>\n",
       "<table border=\"1\" class=\"dataframe\">\n",
       "  <thead>\n",
       "    <tr style=\"text-align: right;\">\n",
       "      <th></th>\n",
       "      <th>Predictor</th>\n",
       "      <th>Coefficient</th>\n",
       "    </tr>\n",
       "  </thead>\n",
       "  <tbody>\n",
       "    <tr>\n",
       "      <th>18</th>\n",
       "      <td>LBXMCVSI</td>\n",
       "      <td>10.515433</td>\n",
       "    </tr>\n",
       "    <tr>\n",
       "      <th>6</th>\n",
       "      <td>RaceNon-Hispanic White</td>\n",
       "      <td>10.906425</td>\n",
       "    </tr>\n",
       "    <tr>\n",
       "      <th>9</th>\n",
       "      <td>RaceOther Race - Including Multi-Racial</td>\n",
       "      <td>11.234259</td>\n",
       "    </tr>\n",
       "    <tr>\n",
       "      <th>5</th>\n",
       "      <td>RaceOther Hispanic</td>\n",
       "      <td>17.946590</td>\n",
       "    </tr>\n",
       "    <tr>\n",
       "      <th>8</th>\n",
       "      <td>Race6\\tNon-Hispanic Asian</td>\n",
       "      <td>20.411446</td>\n",
       "    </tr>\n",
       "    <tr>\n",
       "      <th>23</th>\n",
       "      <td>MCQ300B</td>\n",
       "      <td>29.169148</td>\n",
       "    </tr>\n",
       "    <tr>\n",
       "      <th>27</th>\n",
       "      <td>MCQ365C</td>\n",
       "      <td>37.217967</td>\n",
       "    </tr>\n",
       "    <tr>\n",
       "      <th>26</th>\n",
       "      <td>MCQ365B</td>\n",
       "      <td>57.191963</td>\n",
       "    </tr>\n",
       "    <tr>\n",
       "      <th>21</th>\n",
       "      <td>MCQ160D</td>\n",
       "      <td>61.871413</td>\n",
       "    </tr>\n",
       "    <tr>\n",
       "      <th>20</th>\n",
       "      <td>LBXSUA</td>\n",
       "      <td>100.000000</td>\n",
       "    </tr>\n",
       "  </tbody>\n",
       "</table>\n",
       "</div>"
      ],
      "text/plain": [
       "                                  Predictor  Coefficient\n",
       "18                                 LBXMCVSI    10.515433\n",
       "6                    RaceNon-Hispanic White    10.906425\n",
       "9   RaceOther Race - Including Multi-Racial    11.234259\n",
       "5                        RaceOther Hispanic    17.946590\n",
       "8                 Race6\\tNon-Hispanic Asian    20.411446\n",
       "23                                  MCQ300B    29.169148\n",
       "27                                  MCQ365C    37.217967\n",
       "26                                  MCQ365B    57.191963\n",
       "21                                  MCQ160D    61.871413\n",
       "20                                   LBXSUA   100.000000"
      ]
     },
     "execution_count": 19,
     "metadata": {},
     "output_type": "execute_result"
    }
   ],
   "source": [
    "feature_importance = abs(coefficient_tb_final[coefficient_tb_final.columns[1]])\n",
    "feature_importance = 100.0 * (feature_importance / feature_importance.max())\n",
    "score = feature_importance.head(10)\n",
    "predictors_10 = coefficient_tb_final[coefficient_tb_final.columns[0]].head(10)\n",
    "feature_importance_table = pd.concat([predictors_10,score], axis=1)\n",
    "feature_importance_table\n",
    "feature_importance_table_desc = feature_importance_table.sort_values(by=[\"Coefficient\"],ascending=True)\n",
    "feature_importance_table_desc"
   ]
  },
  {
   "cell_type": "code",
   "execution_count": 527,
   "metadata": {},
   "outputs": [],
   "source": [
    "from sklearn.pipeline import make_pipeline\n",
    "from sklearn.model_selection import cross_val_score\n",
    "from sklearn.model_selection import ShuffleSplit\n",
    "from sklearn.preprocessing import StandardScaler\n",
    "from sklearn.linear_model import Ridge\n",
    "from sklearn.linear_model import Lasso\n",
    "from sklearn.inspection import permutation_importance\n"
   ]
  },
  {
   "cell_type": "code",
   "execution_count": 434,
   "metadata": {},
   "outputs": [
    {
     "name": "stdout",
     "output_type": "stream",
     "text": [
      "0.1293079799950665\n"
     ]
    }
   ],
   "source": [
    "cvshuffle = ShuffleSplit(n_splits=500, test_size=.25)\n",
    "\n",
    "fullModel = make_pipeline(StandardScaler(), Ridge(alpha=1.0))\n",
    "testS = cross_val_score(fullModel, X, y, cv=cvshuffle)\n",
    "print(np.mean(testS))"
   ]
  },
  {
   "cell_type": "code",
   "execution_count": 470,
   "metadata": {},
   "outputs": [
    {
     "name": "stdout",
     "output_type": "stream",
     "text": [
      "    rank_test_score  mean_test_score param_max_features param_max_depth\n",
      "0                 1         0.903355                  3              10\n",
      "1                 2         0.897855                  5              10\n",
      "2                 3         0.895032                  7              10\n",
      "3                 4         0.874757                  3              15\n",
      "4                 5         0.873621                  5              15\n",
      "5                 6         0.873474                  7              15\n",
      "6                 7         0.873144                  3              20\n",
      "7                 7         0.873144                  5              20\n",
      "8                15         0.873034                  7              20\n",
      "9                 7         0.873144                  3              25\n",
      "10                7         0.873144                  5              25\n",
      "11               14         0.873071                  7              25\n",
      "12                7         0.873144                  3              30\n",
      "13                7         0.873144                  5              30\n",
      "14               13         0.873107                  7              30\n"
     ]
    }
   ],
   "source": [
    "### Random Forest\n",
    "from sklearn.ensemble import RandomForestClassifier\n",
    "from sklearn.model_selection import GridSearchCV\n",
    " \n",
    "nmc = 25 \n",
    "\n",
    "# set up dictionary for grid search\n",
    "#  dictionary name must now include pipeline function name then __\n",
    "max_depth = [10,15,20,25,30]\n",
    "max_features = [3,5,7] \n",
    "n_estimators = 100\n",
    "param_grid={'max_features': max_features,'max_depth': max_depth}\n",
    "# set up cross-validation shuffles\n",
    "cvf = ShuffleSplit(test_size=0.2,n_splits=nmc,random_state=25)\n",
    "# set up search\n",
    "grid_search=GridSearchCV(RandomForestClassifier(),param_grid,cv=cvf,return_train_score=True)\n",
    "# implement search\n",
    "grid_search.fit(X,y)\n",
    "# move results into DataFrame\n",
    "results = pd.DataFrame(grid_search.cv_results_)\n",
    "print(results[['rank_test_score','mean_test_score','param_max_features','param_max_depth']])\n"
   ]
  },
  {
   "cell_type": "code",
   "execution_count": 526,
   "metadata": {},
   "outputs": [
    {
     "name": "stdout",
     "output_type": "stream",
     "text": [
      "0.9347028613352898\n"
     ]
    }
   ],
   "source": [
    "clf=RandomForestClassifier(max_depth=10,max_features=3)\n",
    "clf.fit(X,y)\n",
    "print(clf.score(X_test,y_test))"
   ]
  },
  {
   "cell_type": "code",
   "execution_count": 539,
   "metadata": {},
   "outputs": [],
   "source": [
    "X_train=pd.DataFrame(X_train)\n",
    "X_test=pd.DataFrame(X_test)\n"
   ]
  },
  {
   "cell_type": "code",
   "execution_count": 537,
   "metadata": {},
   "outputs": [
    {
     "ename": "AttributeError",
     "evalue": "'numpy.ndarray' object has no attribute 'feature_names'",
     "output_type": "error",
     "traceback": [
      "\u001b[0;31m---------------------------------------------------------------------------\u001b[0m",
      "\u001b[0;31mAttributeError\u001b[0m                            Traceback (most recent call last)",
      "\u001b[0;32m<ipython-input-537-e8cec626a11d>\u001b[0m in \u001b[0;36m<module>\u001b[0;34m\u001b[0m\n\u001b[1;32m      9\u001b[0m ax1.barh(tree_indices,\n\u001b[1;32m     10\u001b[0m          clf.feature_importances_[tree_importance_sorted_idx], height=0.7)\n\u001b[0;32m---> 11\u001b[0;31m \u001b[0max1\u001b[0m\u001b[0;34m.\u001b[0m\u001b[0mset_yticklabels\u001b[0m\u001b[0;34m(\u001b[0m\u001b[0mX_test\u001b[0m\u001b[0;34m.\u001b[0m\u001b[0mfeature_names\u001b[0m\u001b[0;34m[\u001b[0m\u001b[0mtree_importance_sorted_idx\u001b[0m\u001b[0;34m]\u001b[0m\u001b[0;34m)\u001b[0m\u001b[0;34m\u001b[0m\u001b[0;34m\u001b[0m\u001b[0m\n\u001b[0m\u001b[1;32m     12\u001b[0m \u001b[0max1\u001b[0m\u001b[0;34m.\u001b[0m\u001b[0mset_yticks\u001b[0m\u001b[0;34m(\u001b[0m\u001b[0mtree_indices\u001b[0m\u001b[0;34m)\u001b[0m\u001b[0;34m\u001b[0m\u001b[0;34m\u001b[0m\u001b[0m\n\u001b[1;32m     13\u001b[0m \u001b[0max1\u001b[0m\u001b[0;34m.\u001b[0m\u001b[0mset_ylim\u001b[0m\u001b[0;34m(\u001b[0m\u001b[0;34m(\u001b[0m\u001b[0;36m0\u001b[0m\u001b[0;34m,\u001b[0m \u001b[0mlen\u001b[0m\u001b[0;34m(\u001b[0m\u001b[0mclf\u001b[0m\u001b[0;34m.\u001b[0m\u001b[0mfeature_importances_\u001b[0m\u001b[0;34m)\u001b[0m\u001b[0;34m)\u001b[0m\u001b[0;34m)\u001b[0m\u001b[0;34m\u001b[0m\u001b[0;34m\u001b[0m\u001b[0m\n",
      "\u001b[0;31mAttributeError\u001b[0m: 'numpy.ndarray' object has no attribute 'feature_names'"
     ]
    },
    {
     "data": {
      "image/png": "[encoded data removed]",
      "text/plain": [
       "<Figure size 864x576 with 2 Axes>"
      ]
     },
     "metadata": {
      "needs_background": "light"
     },
     "output_type": "display_data"
    }
   ],
   "source": [
    "result = permutation_importance(clf, X_train, y_train, n_repeats=10,\n",
    "                                random_state=42)\n",
    "perm_sorted_idx = result.importances_mean.argsort()\n",
    "\n",
    "tree_importance_sorted_idx = np.argsort(clf.feature_importances_)\n",
    "tree_indices = np.arange(0, len(clf.feature_importances_)) + 0.5\n",
    "\n",
    "fig, (ax1, ax2) = plt.subplots(1, 2, figsize=(12, 8))\n",
    "ax1.barh(tree_indices,\n",
    "         clf.feature_importances_[tree_importance_sorted_idx], height=0.7)\n",
    "ax1.set_yticklabels(X_test.feature_names[tree_importance_sorted_idx])\n",
    "ax1.set_yticks(tree_indices)\n",
    "ax1.set_ylim((0, len(clf.feature_importances_)))\n",
    "ax2.boxplot(result.importances[perm_sorted_idx].T, vert=False,\n",
    "            labels=X_test.feature_names[perm_sorted_idx])\n",
    "fig.tight_layout()\n",
    "plt.show()\n"
   ]
  },
  {
   "cell_type": "code",
   "execution_count": 553,
   "metadata": {},
   "outputs": [
    {
     "name": "stdout",
     "output_type": "stream",
     "text": [
      "    importance\n",
      "1   100.000000\n",
      "17   65.405533\n",
      "14   62.902001\n",
      "19   59.568127\n",
      "13   55.817199\n",
      "12   54.554923\n",
      "18   53.232157\n",
      "16   51.520885\n",
      "15   49.876066\n",
      "10   48.300179\n",
      "11   43.318957\n",
      "25   26.122905\n",
      "20   18.081586\n",
      "8    16.347360\n",
      "9    16.245219\n"
     ]
    }
   ],
   "source": [
    "feature_importances = pd.DataFrame(rf.feature_importances_,\n",
    "                                   index = X_test.columns,\n",
    "                                    columns=['importance']).sort_values('importance',                                                                 ascending=False)\n",
    "feature_importances = 100.0 * (feature_importances / feature_importances.max())\n",
    "score = feature_importances.head(15)\n",
    "print(score)"
   ]
  },
  {
   "cell_type": "code",
   "execution_count": 554,
   "metadata": {},
   "outputs": [
    {
     "name": "stdout",
     "output_type": "stream",
     "text": [
      "Age\n",
      "LBXSCR\n",
      "LBDTCSI\n",
      "MCQ160D\n",
      "avgDI\n",
      "avgSY\n",
      "LBXSUA\n",
      "LBXMCVSI\n",
      "AI\n",
      "BMXBMI\n",
      "BPXPLS\n",
      "MCQ365C\n",
      "MCQ300A\n",
      "DIQ010Yes\n",
      "DIQ010No\n"
     ]
    }
   ],
   "source": [
    "index=[1,17,14,19,13,12,18,16,15,10,11,25,20,8,9]\n",
    "for i in index:\n",
    "    print(df2.columns[i])"
   ]
  },
  {
   "cell_type": "code",
   "execution_count": null,
   "metadata": {},
   "outputs": [],
   "source": []
  }
 ],
 "metadata": {
  "kernelspec": {
   "display_name": "Python 3",
   "language": "python",
   "name": "python3"
  },
  "language_info": {
   "codemirror_mode": {
    "name": "ipython",
    "version": 3
   },
   "file_extension": ".py",
   "mimetype": "text/x-python",
   "name": "python",
   "nbconvert_exporter": "python",
   "pygments_lexer": "ipython3",
   "version": "3.7.6"
  }
 },
 "nbformat": 4,
 "nbformat_minor": 2
}
